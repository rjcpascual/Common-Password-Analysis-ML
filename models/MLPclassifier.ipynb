{
  "cells": [
    {
      "cell_type": "code",
      "execution_count": 4,
      "metadata": {
        "colab": {
          "base_uri": "https://localhost:8080/"
        },
        "id": "X29BZexjnhY3",
        "outputId": "83c1d8bb-5aa1-410b-e492-84a82e31f698"
      },
      "outputs": [
        {
          "name": "stderr",
          "output_type": "stream",
          "text": [
            "/usr/local/lib/python3.11/dist-packages/sklearn/neural_network/_multilayer_perceptron.py:691: ConvergenceWarning: Stochastic Optimizer: Maximum iterations (500) reached and the optimization hasn't converged yet.\n",
            "  warnings.warn(\n"
          ]
        }
      ],
      "source": [
        "import pandas as pd\n",
        "import numpy as np\n",
        "from sklearn.preprocessing import MinMaxScaler, LabelEncoder\n",
        "from sklearn.neural_network import MLPClassifier\n",
        "from sklearn.metrics import (\n",
        "    accuracy_score,\n",
        "    cohen_kappa_score,\n",
        "    mean_absolute_error,\n",
        "    mean_squared_error,\n",
        "    classification_report,\n",
        "    confusion_matrix,\n",
        ")\n",
        "\n",
        "train_df = pd.read_csv('training-password-data.csv')\n",
        "test_df  = pd.read_csv('testing-password-data.csv')\n",
        "\n",
        "X_train = train_df.drop(columns=['strength'])\n",
        "y_train = train_df['strength'].astype(str)\n",
        "X_test  = test_df.drop(columns=['strength'])\n",
        "y_test  = test_df['strength'].astype(str)\n",
        "\n",
        "X_train = pd.get_dummies(X_train)\n",
        "X_test  = pd.get_dummies(X_test).reindex(columns=X_train.columns, fill_value=0)\n",
        "\n",
        "scaler = MinMaxScaler()\n",
        "X_train_scaled = scaler.fit_transform(X_train)\n",
        "X_test_scaled  = scaler.transform(X_test)\n",
        "\n",
        "n_inputs  = X_train_scaled.shape[1]\n",
        "n_outputs = y_train.nunique()\n",
        "hidden_units = (n_inputs + n_outputs) // 2\n",
        "\n",
        "mlp = MLPClassifier(\n",
        "    hidden_layer_sizes=(hidden_units,),\n",
        "    activation='logistic',\n",
        "    solver='sgd',\n",
        "    learning_rate='constant',\n",
        "    learning_rate_init=0.3,\n",
        "    momentum=0.2,\n",
        "    batch_size=100,\n",
        "    max_iter=500,\n",
        "    tol=0.0,\n",
        "    early_stopping=False,\n",
        "    alpha=0.0,\n",
        "    shuffle=True,\n",
        "    random_state=0,\n",
        ")\n",
        "\n",
        "mlp.fit(X_train_scaled, y_train)\n",
        "\n",
        "y_pred = mlp.predict(X_test_scaled)\n",
        "\n",
        "le = LabelEncoder().fit(y_train)\n",
        "y_true_int = le.transform(y_test)\n",
        "y_pred_int = le.transform(y_pred)"
      ]
    },
    {
      "cell_type": "code",
      "execution_count": 7,
      "metadata": {
        "colab": {
          "base_uri": "https://localhost:8080/"
        },
        "id": "pBGWQbZWoaLW",
        "outputId": "9331e970-3435-46b2-d865-f9880fc88f64"
      },
      "outputs": [
        {
          "name": "stdout",
          "output_type": "stream",
          "text": [
            "=== Summary ===\n",
            "Correctly Classified Instances   531315   99.9708 %\n",
            "Incorrectly Classified Instances 155   0.0292 %\n",
            "Kappa statistic                  0.999\n",
            "Mean absolute error              0.0003\n",
            "Root mean squared error          0.0171\n",
            "Relative absolute error          0.0011\n",
            "Root relative squared error      0.0339\n",
            "Total Number of Instances        531470\n",
            "\n",
            "=== Detailed Accuracy By Class ===\n",
            "              precision    recall  f1-score   support\n",
            "\n",
            "           0     0.9993    0.9990    0.9992     71711\n",
            "           1     0.9998    0.9998    0.9998    396208\n",
            "           2     0.9995    1.0000    0.9997     63551\n",
            "\n",
            "    accuracy                         0.9997    531470\n",
            "   macro avg     0.9995    0.9996    0.9996    531470\n",
            "weighted avg     0.9997    0.9997    0.9997    531470\n",
            "\n",
            "=== Confusion Matrix ===\n",
            "          pred=0  pred=1  pred=2\n",
            "actual=0   71641      70       0\n",
            "actual=1      50  396126      32\n",
            "actual=2       0       3   63548\n"
          ]
        }
      ],
      "source": [
        "total      = len(y_test)\n",
        "correct    = (y_pred == y_test).sum()\n",
        "incorrect  = total - correct\n",
        "pct_corr   = correct   / total * 100\n",
        "pct_incorr = incorrect / total * 100\n",
        "\n",
        "y_true_int = le.transform(y_test)\n",
        "y_pred_int = le.transform(y_pred)\n",
        "\n",
        "kappa = cohen_kappa_score(y_test, y_pred)\n",
        "mae   = mean_absolute_error(y_true_int, y_pred_int)\n",
        "\n",
        "mse   = mean_squared_error(y_true_int, y_pred_int)\n",
        "rmse  = np.sqrt(mse)\n",
        "\n",
        "mean_true = np.mean(y_true_int)\n",
        "rae  = mae  / np.mean(np.abs(y_true_int - mean_true))\n",
        "rrse = rmse / np.sqrt(np.mean((y_true_int - mean_true)**2))\n",
        "\n",
        "print(\"=== Summary ===\")\n",
        "print(f\"Correctly Classified Instances   {correct}   {pct_corr:.4f} %\")\n",
        "print(f\"Incorrectly Classified Instances {incorrect}   {pct_incorr:.4f} %\")\n",
        "print(f\"Kappa statistic                  {kappa:.3f}\")\n",
        "print(f\"Mean absolute error              {mae:.4f}\")\n",
        "print(f\"Root mean squared error          {rmse:.4f}\")\n",
        "print(f\"Relative absolute error          {rae:.4f}\")\n",
        "print(f\"Root relative squared error      {rrse:.4f}\")\n",
        "print(f\"Total Number of Instances        {total}\")\n",
        "\n",
        "print(\"\\n=== Detailed Accuracy By Class ===\")\n",
        "print(classification_report(y_test, y_pred, digits=4))\n",
        "\n",
        "print(\"=== Confusion Matrix ===\")\n",
        "cm = confusion_matrix(y_test, y_pred, labels=le.classes_)\n",
        "print(pd.DataFrame(cm, index=[f\"actual={c}\" for c in le.classes_],\n",
        "                      columns=[f\"pred={c}\" for c in le.classes_]))\n"
      ]
    }
  ],
  "metadata": {
    "colab": {
      "provenance": []
    },
    "kernelspec": {
      "display_name": "Python 3",
      "name": "python3"
    },
    "language_info": {
      "name": "python"
    }
  },
  "nbformat": 4,
  "nbformat_minor": 0
}
