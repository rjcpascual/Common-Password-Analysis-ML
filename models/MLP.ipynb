{
  "nbformat": 4,
  "nbformat_minor": 0,
  "metadata": {
    "colab": {
      "provenance": []
    },
    "kernelspec": {
      "name": "python3",
      "display_name": "Python 3"
    },
    "language_info": {
      "name": "python"
    }
  },
  "cells": [
    {
      "cell_type": "code",
      "execution_count": 1,
      "metadata": {
        "colab": {
          "base_uri": "https://localhost:8080/"
        },
        "id": "PfHp1KsZG-Oc",
        "outputId": "fcb3ff92-1384-4f19-fc11-809b0442f53f"
      },
      "outputs": [
        {
          "output_type": "stream",
          "name": "stdout",
          "text": [
            "Epoch 1/100\n"
          ]
        },
        {
          "output_type": "stream",
          "name": "stderr",
          "text": [
            "/usr/local/lib/python3.11/dist-packages/keras/src/layers/core/dense.py:87: UserWarning: Do not pass an `input_shape`/`input_dim` argument to a layer. When using Sequential models, prefer using an `Input(shape)` object as the first layer in the model instead.\n",
            "  super().__init__(activity_regularizer=activity_regularizer, **kwargs)\n"
          ]
        },
        {
          "output_type": "stream",
          "name": "stdout",
          "text": [
            "3737/3737 - 9s - 3ms/step - accuracy: 0.9529 - loss: 0.1978 - val_accuracy: 0.9992 - val_loss: 0.0345\n",
            "Epoch 2/100\n",
            "3737/3737 - 8s - 2ms/step - accuracy: 0.9997 - loss: 0.0185 - val_accuracy: 0.9995 - val_loss: 0.0097\n",
            "Epoch 3/100\n",
            "3737/3737 - 13s - 3ms/step - accuracy: 0.9997 - loss: 0.0061 - val_accuracy: 0.9995 - val_loss: 0.0054\n",
            "Epoch 4/100\n",
            "3737/3737 - 8s - 2ms/step - accuracy: 0.9998 - loss: 0.0034 - val_accuracy: 0.9995 - val_loss: 0.0038\n",
            "Epoch 5/100\n",
            "3737/3737 - 10s - 3ms/step - accuracy: 0.9998 - loss: 0.0025 - val_accuracy: 0.9995 - val_loss: 0.0032\n",
            "Epoch 6/100\n",
            "3737/3737 - 10s - 3ms/step - accuracy: 0.9998 - loss: 0.0021 - val_accuracy: 0.9995 - val_loss: 0.0023\n",
            "Epoch 7/100\n",
            "3737/3737 - 9s - 3ms/step - accuracy: 0.9998 - loss: 0.0019 - val_accuracy: 0.9995 - val_loss: 0.0021\n",
            "Epoch 8/100\n",
            "3737/3737 - 10s - 3ms/step - accuracy: 0.9998 - loss: 0.0017 - val_accuracy: 0.9995 - val_loss: 0.0017\n",
            "Epoch 9/100\n",
            "3737/3737 - 10s - 3ms/step - accuracy: 0.9998 - loss: 0.0016 - val_accuracy: 0.9995 - val_loss: 0.0021\n",
            "Epoch 10/100\n",
            "3737/3737 - 7s - 2ms/step - accuracy: 0.9998 - loss: 0.0015 - val_accuracy: 0.9995 - val_loss: 0.0019\n",
            "Epoch 11/100\n",
            "3737/3737 - 7s - 2ms/step - accuracy: 0.9998 - loss: 0.0016 - val_accuracy: 0.9995 - val_loss: 9.3491e-04\n",
            "Epoch 12/100\n",
            "3737/3737 - 7s - 2ms/step - accuracy: 0.9998 - loss: 0.0015 - val_accuracy: 0.9995 - val_loss: 0.0013\n",
            "Epoch 13/100\n",
            "3737/3737 - 6s - 2ms/step - accuracy: 0.9997 - loss: 0.0015 - val_accuracy: 0.9998 - val_loss: 9.3499e-04\n",
            "Epoch 14/100\n",
            "3737/3737 - 10s - 3ms/step - accuracy: 0.9998 - loss: 0.0014 - val_accuracy: 0.9995 - val_loss: 0.0012\n",
            "Epoch 15/100\n",
            "3737/3737 - 11s - 3ms/step - accuracy: 0.9998 - loss: 0.0015 - val_accuracy: 0.9998 - val_loss: 9.8796e-04\n",
            "Epoch 16/100\n",
            "3737/3737 - 7s - 2ms/step - accuracy: 0.9998 - loss: 0.0015 - val_accuracy: 0.9998 - val_loss: 8.3319e-04\n",
            "Epoch 17/100\n",
            "3737/3737 - 9s - 2ms/step - accuracy: 0.9998 - loss: 0.0013 - val_accuracy: 0.9999 - val_loss: 4.2322e-04\n",
            "Epoch 18/100\n",
            "3737/3737 - 10s - 3ms/step - accuracy: 0.9998 - loss: 0.0014 - val_accuracy: 0.9998 - val_loss: 9.2073e-04\n",
            "Epoch 19/100\n",
            "3737/3737 - 10s - 3ms/step - accuracy: 0.9998 - loss: 0.0013 - val_accuracy: 0.9998 - val_loss: 8.7574e-04\n",
            "Epoch 20/100\n",
            "3737/3737 - 11s - 3ms/step - accuracy: 0.9998 - loss: 0.0013 - val_accuracy: 0.9995 - val_loss: 8.9245e-04\n",
            "Epoch 21/100\n",
            "3737/3737 - 7s - 2ms/step - accuracy: 0.9998 - loss: 0.0013 - val_accuracy: 0.9998 - val_loss: 6.8310e-04\n",
            "Epoch 22/100\n",
            "3737/3737 - 7s - 2ms/step - accuracy: 0.9998 - loss: 0.0012 - val_accuracy: 0.9998 - val_loss: 7.4034e-04\n"
          ]
        }
      ],
      "source": [
        "import pandas as pd\n",
        "import numpy as np\n",
        "from sklearn.preprocessing import StandardScaler, LabelEncoder\n",
        "from tensorflow.keras.models import Sequential\n",
        "from tensorflow.keras.layers import Dense\n",
        "from tensorflow.keras.callbacks import EarlyStopping\n",
        "from tensorflow.keras.utils import to_categorical\n",
        "from sklearn.metrics import classification_report, confusion_matrix\n",
        "\n",
        "train_df = pd.read_csv('training-password-data.csv')\n",
        "test_df  = pd.read_csv('testing-password-data.csv')\n",
        "\n",
        "X_train = train_df.drop(columns=['strength'])\n",
        "y_train = train_df['strength'].astype(str)\n",
        "X_test  = test_df.drop(columns=['strength'])\n",
        "y_test  = test_df['strength'].astype(str)\n",
        "\n",
        "X_train = pd.get_dummies(X_train, columns=['Type'])\n",
        "X_test  = pd.get_dummies(X_test,  columns=['Type']).reindex(columns=X_train.columns, fill_value=0)\n",
        "\n",
        "numeric_cols = ['letterChars','numberChars','specialChars','numCharacters']\n",
        "scaler = StandardScaler()\n",
        "X_train[numeric_cols] = scaler.fit_transform(X_train[numeric_cols])\n",
        "X_test[numeric_cols]  = scaler.transform(X_test[numeric_cols])\n",
        "\n",
        "le = LabelEncoder().fit(y_train)\n",
        "y_train_enc = le.transform(y_train)\n",
        "y_test_enc  = le.transform(y_test)\n",
        "num_classes = len(le.classes_)\n",
        "\n",
        "y_train_cat = to_categorical(y_train_enc, num_classes)\n",
        "y_test_cat  = to_categorical(y_test_enc,  num_classes)\n",
        "\n",
        "input_dim    = X_train.shape[1]\n",
        "hidden_units = (input_dim + num_classes) // 2\n",
        "\n",
        "model = Sequential([\n",
        "    Dense(hidden_units, activation='relu',    input_shape=(input_dim,)),\n",
        "    Dense(num_classes,  activation='softmax'),\n",
        "])\n",
        "\n",
        "model.compile(\n",
        "    optimizer='adam',\n",
        "    loss='categorical_crossentropy',\n",
        "    metrics=['accuracy']\n",
        ")\n",
        "\n",
        "es = EarlyStopping(monitor='val_loss', patience=5, restore_best_weights=True)\n",
        "history = model.fit(\n",
        "    X_train, y_train_cat,\n",
        "    validation_split=0.1,\n",
        "    epochs=100,\n",
        "    batch_size=32,\n",
        "    callbacks=[es],\n",
        "    verbose=2\n",
        ")"
      ]
    },
    {
      "cell_type": "code",
      "source": [
        "loss, acc = model.evaluate(X_test, y_test_cat, verbose=0)\n",
        "print(f\"\\nTest loss: {loss:.4f}, Test accuracy: {acc:.4f}\")\n",
        "\n",
        "y_pred_prob = model.predict(X_test)\n",
        "y_pred_enc  = np.argmax(y_pred_prob, axis=1)\n",
        "y_pred      = le.inverse_transform(y_pred_enc)\n",
        "\n",
        "print(\"\\n=== Classification Report ===\")\n",
        "print(classification_report(y_test, y_pred, digits=4))\n",
        "\n",
        "print(\"=== Confusion Matrix ===\")\n",
        "cm = confusion_matrix(y_test, y_pred, labels=le.classes_)\n",
        "print(pd.DataFrame(cm,\n",
        "                   index=[f\"actual={c}\" for c in le.classes_],\n",
        "                   columns=[f\"pred={c}\" for c in le.classes_]))"
      ],
      "metadata": {
        "colab": {
          "base_uri": "https://localhost:8080/"
        },
        "id": "0UBArReUHDA-",
        "outputId": "637bd847-16a8-434f-f20b-d364813e0856"
      },
      "execution_count": 2,
      "outputs": [
        {
          "output_type": "stream",
          "name": "stdout",
          "text": [
            "\n",
            "Test loss: 0.0024, Test accuracy: 0.9996\n",
            "\u001b[1m16609/16609\u001b[0m \u001b[32m━━━━━━━━━━━━━━━━━━━━\u001b[0m\u001b[37m\u001b[0m \u001b[1m17s\u001b[0m 1ms/step\n",
            "\n",
            "=== Classification Report ===\n",
            "              precision    recall  f1-score   support\n",
            "\n",
            "           0     0.9985    0.9994    0.9989     71711\n",
            "           1     0.9999    0.9996    0.9998    396208\n",
            "           2     0.9995    0.9999    0.9997     63551\n",
            "\n",
            "    accuracy                         0.9996    531470\n",
            "   macro avg     0.9993    0.9996    0.9995    531470\n",
            "weighted avg     0.9996    0.9996    0.9996    531470\n",
            "\n",
            "=== Confusion Matrix ===\n",
            "          pred=0  pred=1  pred=2\n",
            "actual=0   71668      43       0\n",
            "actual=1     108  396069      31\n",
            "actual=2       0       7   63544\n"
          ]
        }
      ]
    }
  ]
}